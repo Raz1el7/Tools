{
  "cells": [
    {
      "cell_type": "markdown",
      "metadata": {
        "id": "view-in-github",
        "colab_type": "text"
      },
      "source": [
        "<a href=\"https://colab.research.google.com/github/Raz1el7/Tools/blob/main/Introducci%C3%B3n_a_python_Qu%C3%ADmioinformatica.ipynb\" target=\"_parent\"><img src=\"https://colab.research.google.com/assets/colab-badge.svg\" alt=\"Open In Colab\"/></a>"
      ]
    },
    {
      "cell_type": "markdown",
      "source": [
        "---\n",
        "---\n",
        "#  *Notebooks* (Jupyter y Google Colab)\n",
        "---\n",
        "---\n",
        "\n",
        "Un *notebook* nos permite estructurar el código e interactuar con él de manera más sencilla. De forma similar a como Microsoft Word nos ayuda a redactar textos, Jupyter nos ayuda a escribir código en Python.  \n",
        "\n",
        "*Python* es uno de los lenguajes de programación de alto nivel. El término *alto nivel* se refiere a la cercanía del lenguaje con el lenguaje natural que los humanos entienden, en contraposición al lenguaje que entienden las computadoras. Python es relativamente fácil de comprender y escribir. Por otro lado, los lenguajes de bajo nivel son más complejos tanto para la escritura como para la interpretación.  \n",
        "\n",
        "La principal desventaja de Python, debido a su *alto nivel*, es que su ejecución es considerablemente más lenta en comparación con otros lenguajes. Sin embargo, para muchas personas fuera del campo de la informática, la velocidad no es un factor crítico en sus proyectos. Gracias a su accesibilidad y facilidad de uso, Python se ha consolidado como uno de los lenguajes principales para el aprendizaje automático (*machine learning*) y la inteligencia artificial (IA).  \n"
      ],
      "metadata": {
        "id": "_OiYXG8TMWDO"
      }
    },
    {
      "cell_type": "markdown",
      "source": [
        "\n",
        "### Uso de Jupyter Notebooks  \n",
        "---\n",
        "\n",
        "En un *notebook* de *Python*, existen **dos tipos de celdas**:  \n",
        "1. Celdas de texto, como esta, donde se puede escribir contenido explicativo."
      ],
      "metadata": {
        "id": "K0ulMuGXV4KO"
      }
    },
    {
      "cell_type": "markdown",
      "source": [],
      "metadata": {
        "id": "FlGwbmJnWEdG"
      }
    },
    {
      "cell_type": "markdown",
      "source": [
        "\n",
        "2. Celdas de código, donde se escribe y ejecuta el código en Python.  "
      ],
      "metadata": {
        "id": "TWGYZXZ_WGaU"
      }
    },
    {
      "cell_type": "code",
      "source": [],
      "metadata": {
        "id": "50TJvxP5V32k"
      },
      "execution_count": null,
      "outputs": []
    },
    {
      "cell_type": "markdown",
      "source": [
        "Para ejecutar una celda, haz clic en ella y presiona `Shift + Enter`. Al ejecutar una celda, el código que contiene se envía como un comando a Python, que lo interpreta y ejecuta secuencialmente.  \n",
        "\n",
        "Además, puedes navegar rápidamente entre celdas utilizando las teclas de flecha.  \n",
        "\n",
        "**Primero, haz clic en la siguiente celda y ejecútala.**  \n",
        "Si todo funciona correctamente, debería aparecer el siguiente mensaje:  \n",
        "\n",
        "<div align=\"center\"><code>'¡Mi primera celda!'</code></div>\n",
        "\n",
        "El funcionamiento exacto de este proceso se explicará con mayor detalle en el próximo notebook.  "
      ],
      "metadata": {
        "id": "cw57kdFlWJAf"
      }
    },
    {
      "cell_type": "code",
      "source": [
        "\"¡Mi primer código!\""
      ],
      "metadata": {
        "id": "ZDpV0YVxWeh6"
      },
      "execution_count": null,
      "outputs": []
    },
    {
      "cell_type": "markdown",
      "source": [
        "<center><img src=\"https://raw.githubusercontent.com/trottling/Bender/main/media/bender.png\"></center>"
      ],
      "metadata": {
        "id": "5irKVue7YtDa"
      }
    },
    {
      "cell_type": "markdown",
      "metadata": {
        "id": "GYJlZ0ig2o32"
      },
      "source": [
        "---\n",
        "---\n",
        "# **Introducción a *Python***\n",
        "---\n",
        "---\n",
        "\n"
      ]
    },
    {
      "cell_type": "markdown",
      "source": [
        "En este cuaderno exploraremos los principios fundamentales de [*Python*](https://docs.python.org/3/). , enfocándonos en las funciones y estructuras de datos más relevantes.  \n",
        "\n",
        "*Python* es un **lenguaje de programación interpretado y orientado a objetos**, ampliamente reconocido por su versatilidad y facilidad de uso. Su extenso ecosistema de bibliotecas permite el desarrollo de software escalable y aplicaciones prácticas en diversos campos.  \n",
        "\n",
        "En el ámbito científico, *Python* se ha convertido en una herramienta esencial, especialmente en disciplinas como la bioinformática y la quimioinformática. Su capacidad para manejar y analizar grandes volúmenes de datos complejos —como secuencias genómicas, imágenes médicas, registros clínicos y bases de datos con miles o incluso millones de compuestos químicos— ha impulsado su adopción.  \n",
        "\n",
        "Gracias a su sintaxis intuitiva, rápida curva de aprendizaje e integración fluida con otras aplicaciones, *Python* no solo facilita el análisis avanzado de datos, sino que también potencia la innovación en la investigación científica y el desarrollo tecnológico.\n"
      ],
      "metadata": {
        "id": "NiHvaOvAxd-s"
      }
    },
    {
      "cell_type": "markdown",
      "source": [
        "<center><img src=\"https://1000marcas.net/wp-content/uploads/2020/11/Python-logo.png\"></center>\n"
      ],
      "metadata": {
        "id": "XvCuvGhbYSpk"
      }
    },
    {
      "cell_type": "markdown",
      "source": [
        "## **Objetivos**  \n",
        "\n",
        "---\n",
        "\n",
        "* Familiarizarse con las definiciones y funciones básicas de *Python*.  \n",
        "* Introducir el concepto de bibliotecas y paquetes.  \n",
        "* Aprender a importar *datasets* existentes.  \n",
        "* Desarrollar gráficos básicos para la visualización de datos."
      ],
      "metadata": {
        "id": "rsaQsNSIFVz-"
      }
    },
    {
      "cell_type": "markdown",
      "metadata": {
        "id": "li3hHeuCFhKi"
      },
      "source": [
        "\n",
        "## **Tabla de Contenidos**\n",
        "\n",
        "---\n",
        "\n",
        "* [Valores](#0)  \n",
        "  * [Función <code>print()</code>](#00)  \n",
        "* [Tipos de valores](#1)  \n",
        "  * [Strings](#2)  \n",
        "  * [Números](#3)  \n",
        "  * [Booleanos](#4)\n",
        "  * [Listas](#5)\n",
        "*   \n",
        "\n",
        "\n",
        "* [Funciones](#Funciones)  \n",
        "* [Bibliotecas y Paquetes](#Librerias/Paqueterias)  \n",
        "* [Manipulación de Tablas](#Manipulacion_de_tablas)  \n",
        "* [Gráficos Simples](#Simple_plots)  \n",
        "* [Gráficos Múltiples](#Multiple_plots)  \n",
        "* [Regresión Lineal](#Regresion_lineal)  \n",
        "* [Limpieza de Datos](#Limpieza_de_datos)  \n",
        "\n"
      ]
    },
    {
      "cell_type": "markdown",
      "source": [
        "<a name='0'></a>\n",
        "\n",
        "# **Valores**\n",
        "\n",
        "---\n",
        "\n",
        "Un valor es una de las cosas más básicas con las que un programa funciona, puede ser una **letra** o un **número**.\n",
        "\n"
      ],
      "metadata": {
        "id": "1SOA3fTtaPMX"
      }
    },
    {
      "cell_type": "code",
      "source": [
        "1"
      ],
      "metadata": {
        "id": "Pm0SFA5-dPDp"
      },
      "execution_count": null,
      "outputs": []
    },
    {
      "cell_type": "code",
      "source": [
        "2"
      ],
      "metadata": {
        "id": "96mTPa8Be9G9"
      },
      "execution_count": null,
      "outputs": []
    },
    {
      "cell_type": "code",
      "source": [
        "\"Hola mundo\""
      ],
      "metadata": {
        "id": "cLh2YhQpe-DH"
      },
      "execution_count": null,
      "outputs": []
    },
    {
      "cell_type": "markdown",
      "metadata": {
        "id": "AW5tLexHV7D9"
      },
      "source": [
        "<a name='00'></a>\n",
        "\n",
        "## 1. **Print(\"Nuestra primera función\")**\n",
        "\n",
        "Una de las funciones más fundamentales en *Python* es <code>print()</code>. Esta función permite mostrar información o texto en la salida estándar, facilitando la visualización de resultados. Python imprimirá siempre el contenido especificado dentro de los paréntesis <code>()</code>.\n",
        "\n",
        "\n",
        "\n",
        "## ¿Qué es una función?\n",
        "\n",
        "Una **función** es un bloque de código reutilizable que se ejecuta solo cuando es llamado. Python incluye varias funciones integradas, como **print()**, **sum()** y **pow()**.\n",
        "\n",
        "Para obtener más información sobre las funciones integradas de Python, consulta la [documentación oficial](https://docs.python.org/3/library/functions.html \"Python's Built-in Functions\")."
      ]
    },
    {
      "cell_type": "code",
      "execution_count": null,
      "metadata": {
        "id": "Gjeb4OAMV7D-"
      },
      "outputs": [],
      "source": [
        "print(\"Hola mundo\")"
      ]
    },
    {
      "cell_type": "markdown",
      "metadata": {
        "id": "KmOQDlVdV7EC"
      },
      "source": [
        "Para mayor simplicidad, el cuaderno de Python muestra automáticamente la salida de la última línea de cada celda, incluso sin utilizar la función <code>print()</code>.\n",
        "\n",
        "El símbolo de numeral (o *hashtag*) `#` permite agregar comentarios al código. Estos comentarios son ignorados por Python y sirven para incluir información útil para el usuario."
      ]
    },
    {
      "cell_type": "code",
      "execution_count": null,
      "metadata": {
        "id": "ILPhYjyAV7EC"
      },
      "outputs": [],
      "source": [
        "\"Hola\"  # La primera fila no se imprimirá a no ser que la función print() sea usada\n",
        "\"mundo\""
      ]
    },
    {
      "cell_type": "markdown",
      "metadata": {
        "id": "MR4GdUU2V7ED"
      },
      "source": [
        "Si deseas mostrar texto con la función `print()`, es importante que esté escrito entre comillas <code>\" \"</code>. Estas indican a Python que trate los caracteres dentro de las comillas como texto simple. Una palabra o frase escrita entre <code>\" \"</code> se denomina una `cadena` (*string*).\n",
        "\n",
        "Sin las <code>\" \"</code>, ocurre lo siguiente:"
      ]
    },
    {
      "cell_type": "code",
      "execution_count": null,
      "metadata": {
        "id": "d19XNqICV7EE"
      },
      "outputs": [],
      "source": [
        "Hola"
      ]
    },
    {
      "cell_type": "markdown",
      "metadata": {
        "id": "xDOTtREVV7EF"
      },
      "source": [
        "<center><img src=\"https://tenor.com/view/monkey-pissed-mad-angry-furious-gif-4720563.gif\"></center>"
      ]
    },
    {
      "cell_type": "markdown",
      "metadata": {
        "id": "t0tkuKAVRHqb"
      },
      "source": [
        "<a name='1'></a>\n",
        "\n",
        "## **Tipos de valores**  \n",
        "---\n",
        "\n",
        "En Python, existen diferentes tipos de valores que podemos utilizar. A continuación se describen los principales junto con algunos ejemplos:\n",
        "\n",
        "* **Booleanos (`bool`)**: Representan valores lógicos, `True` (_verdadero_) o `False` (_falso_).  \n",
        "* **Enteros (`int`)**: Números enteros positivos o negativos, como `8` o `-678`.  \n",
        "* **Números de punto flotante (`float`)**: Representan números reales, como `3.14159` o `-6.5`.  \n",
        "* **Cadenas de caracteres (`str`)**: Son secuencias de texto, como `\"hola\"` o `\"manzana\"`.  \n",
        "* **Listas (`list`)**: Conjuntos ordenados de valores, ya sean enteros, flotantes o cadenas. Por ejemplo, `[1, 2, 3, 4]` o `[1.23, 2, 3.54, 4]`.\n",
        "\n",
        "Para identificar el tipo de valor con el que estamos trabajando, podemos utilizar la función `type()` seguida del nombre de la variable entre paréntesis.\n",
        "\n",
        "Para más detalles, consulta la [documentación oficial de Python](https://docs.python.org/3/library/stdtypes.html).\n",
        "\n",
        "<center><img src=\"https://realpython.com/cdn-cgi/image/width=960,format=auto/https://files.realpython.com/media/Basic-Data-Types-in-Python_Watermarked.e3dd34457952.jpg\"></center>"
      ]
    },
    {
      "cell_type": "markdown",
      "source": [
        "<a name='2'></a>\n",
        "\n",
        "### **Strings**\n"
      ],
      "metadata": {
        "id": "SesB__DypoZe"
      }
    },
    {
      "cell_type": "code",
      "source": [
        "Hola"
      ],
      "metadata": {
        "id": "5Tzc4Sq4m2Ld"
      },
      "execution_count": null,
      "outputs": []
    },
    {
      "cell_type": "markdown",
      "source": [
        "Tu primer mensaje de error!!!\n",
        "(: yei :)\n",
        "Pero podemos solucionarlo rápidamente.\n",
        "El error ocurre porque `\"Hola\"` no está definido. Esto sucede porque *Python* no reconoce el `string` como tal. Las palabras o caracteres que no están escritos entre comillas `\" \"`, se interpretan como **variables**. Estas deben ser definidas previamente. Las variables pueden contener números, `strings` o incluso listas. Definimos una variable utilizando el operador `=`.\n",
        "\n",
        "<center><img src=\"https://realpython.com/cdn-cgi/image/width=960,format=auto/https://files.realpython.com/media/UPDATE-Variables-in-Python_Watermarked.7d8b51f3adad.jpg\"></center>\n",
        "\n",
        "Por ejemplo:  "
      ],
      "metadata": {
        "id": "C8XQSO7im46q"
      }
    },
    {
      "cell_type": "code",
      "execution_count": null,
      "metadata": {
        "id": "FvMvdlLPV7EF"
      },
      "outputs": [],
      "source": [
        "x = \"Hola\" #Asignación\n",
        "print(x)"
      ]
    },
    {
      "cell_type": "markdown",
      "metadata": {
        "id": "bf1evbUUV7EG"
      },
      "source": [
        "**`x` ahora *contiene* el string `\"Hola\"`.**  \n",
        "El contenido de `x` seguirá almacenado para las siguientes celdas. Esto significa que incluso en una nueva celda puedes llamar a `print(x)` y se imprimirá `Hello`.\n",
        "\n",
        "Si vuelves a definir `x`, es decir, le das un nuevo valor, el valor anterior será sobrescrito.\n",
        "\n",
        "**Importante:**  \n",
        "La información almacenada o creada en una celda también estará disponible en las siguientes celdas que ejecutes. El orden físico de las celdas no es importante aquí, solo el orden en que se ejecutan.\n"
      ]
    },
    {
      "cell_type": "code",
      "execution_count": null,
      "metadata": {
        "id": "wHTZ_fcDV7EG"
      },
      "outputs": [],
      "source": [
        "print(\"Este es el valor viejo de x:\")\n",
        "print(x)\n",
        "\n",
        "\n",
        "x = 1\n",
        "print()\n",
        "print(\"Este es el valor nuevo de x: \")\n",
        "print(x)"
      ]
    },
    {
      "cell_type": "markdown",
      "metadata": {
        "id": "1AyVR9aQV7EG"
      },
      "source": [
        "<a name='3'></a>\n",
        "\n",
        "### **Números**\n",
        "\n",
        "**Como puedes ver, las variables también pueden contener números.**  \n",
        "Los números enteros (sin punto decimal) se almacenan como `integer` (entero). Los números con punto decimal se almacenan como `float` (flotante). Las operaciones matemáticas como suma, resta, multiplicación y división (`+`, `-`, `*`, `/`) también pueden usarse y se comportan exactamente igual que si estuvieras usándolas en una calculadora."
      ]
    },
    {
      "cell_type": "code",
      "execution_count": null,
      "metadata": {
        "scrolled": true,
        "id": "EznIx-MnV7EH"
      },
      "outputs": [],
      "source": [
        "1+2*(3/4.4)-5"
      ]
    },
    {
      "cell_type": "code",
      "execution_count": null,
      "metadata": {
        "id": "F97WJT5ZV7EH"
      },
      "outputs": [],
      "source": [
        "print(\"10 + 2 igual a\")\n",
        "print(10 + 2)\n",
        "\n",
        "\n",
        "print(\"10 - 2 igual a\")\n",
        "print(10 - 2)\n",
        "\n",
        "\n",
        "print(\"10 * 2 igual a\")\n",
        "print(10 * 2)\n",
        "\n",
        "\n",
        "print(\"10 / 2 igual a\")\n",
        "print(10 / 2)\n"
      ]
    },
    {
      "cell_type": "markdown",
      "metadata": {
        "id": "Gkc-bhpnV7EI"
      },
      "source": [
        "\n",
        "**Las mismas operaciones también funcionan con variables, siempre y cuando contengan `floats` o `integers`.**"
      ]
    },
    {
      "cell_type": "code",
      "execution_count": null,
      "metadata": {
        "id": "HQwQYwKwV7EI"
      },
      "outputs": [],
      "source": [
        "x = 4\n",
        "y = 2\n",
        "\n",
        "print(x + y)\n",
        "print(x - y)\n",
        "print(x * y)\n",
        "print(round(x / y, 2))\n",
        "print(x ** y) #Exponencial\n",
        "print(x**(1/2)) #Raiz cuadrada"
      ]
    },
    {
      "cell_type": "markdown",
      "metadata": {
        "id": "awMd75IMV7EI"
      },
      "source": [
        "<a name='4'></a>\n",
        "\n",
        "### **Booleanos**\n",
        "\n",
        "\n",
        "  \n",
        "**Los booleanos** son otro tipo de variable. Los booleanos son **`True`** o **`False`**. Podemos usar booleanos para comparar valores:"
      ]
    },
    {
      "cell_type": "markdown",
      "source": [
        "Como puedes ver, **`==`** se utiliza para comparar valores. El simple **`=`** ya se usa para asignar valores a las variables. <br>\n",
        "**`==`** verifica si dos valores o variables son idénticos. <br> El símbolo **`!=`** verifica si dos valores no son iguales. **`>`** y **`<`** funcionan como en matemáticas y verifican si un valor es mayor o menor que otro."
      ],
      "metadata": {
        "id": "oH0H29Z6n_6I"
      }
    },
    {
      "cell_type": "code",
      "execution_count": null,
      "metadata": {
        "id": "ngX2iSptV7EI"
      },
      "outputs": [],
      "source": [
        "5==5"
      ]
    },
    {
      "cell_type": "code",
      "execution_count": null,
      "metadata": {
        "id": "UiF0uK5_V7EJ"
      },
      "outputs": [],
      "source": [
        "True + True"
      ]
    },
    {
      "cell_type": "code",
      "execution_count": null,
      "metadata": {
        "id": "1H4rUE8BV7EK"
      },
      "outputs": [],
      "source": [
        "1==True #Por convención se asigna el valor 1 a True y 0 a False"
      ]
    },
    {
      "cell_type": "code",
      "execution_count": null,
      "metadata": {
        "id": "Z7cOmggQV7EK"
      },
      "outputs": [],
      "source": [
        "\"Hello\" == \"Hello\" #Comparación de strings"
      ]
    },
    {
      "cell_type": "code",
      "execution_count": null,
      "metadata": {
        "id": "cZRIjvzFV7EL"
      },
      "outputs": [],
      "source": [
        "x = 5\n",
        "y = 8\n",
        "x == y #Comparación de variables"
      ]
    },
    {
      "cell_type": "markdown",
      "source": [
        "<a name='5'></a>\n",
        "### **-- Conversión entre valores**\n",
        "\n",
        "La conversión de tipos se refiere al proceso de cambiar el tipo de datos de una variable a otro tipo, de manera que la conversión sea válida. Esta conversión puede ocurrir de dos maneras: **implícita o explícita.**\n",
        "\n",
        "**Conversión de tipos implícita**: en esta, el compilador de *Python* convierte automáticamente una variable a otro tipo sin intervención explícita del usuario. Esta conversión ocurre internamente y es gestionada por *Python* de manera automática.\n"
      ],
      "metadata": {
        "id": "dUu2TBXG8Qmk"
      }
    },
    {
      "cell_type": "code",
      "source": [
        "int_num = 100\n",
        "float_num = 2.02\n",
        "ans = int_num + float_num\n",
        "print(f\"Valor: {int_num}  Tipo de valor: {type(int_num)}\")\n",
        "print(f\"Valor: {float_num}  Tipo de valor: {type(float_num)}\")\n",
        "print(f\"Valor: {ans}  Tipo de valor: {type(ans)}\")"
      ],
      "metadata": {
        "id": "nhvovLTn9DRS"
      },
      "execution_count": null,
      "outputs": []
    },
    {
      "cell_type": "markdown",
      "source": [
        "**Conversión de tipo explícito**: En la conversión de tipo explícito, el usuario indica explícitamente al compilador que debe convertir una variable de un tipo a otro. Este proceso requiere que el usuario utilice funciones específicas para realizar la conversión. Algunas de las formas más comunes de conversión explícita incluyen las siguientes:"
      ],
      "metadata": {
        "id": "5pq7Wxtm8rnX"
      }
    },
    {
      "cell_type": "code",
      "source": [
        "value = 123\n",
        "print(f'Valor: {value}  Tipo de valor: {type(value)}')\n",
        "value_str = str(value)\n",
        "print(f'Valor: {value_str}  Tipo de valor: {type(value_str)}')\n",
        "value_f = float(value)\n",
        "print(f'Valor: {value_f}  Tipo de valor: {type(value_f)}')\n",
        "value_i = int(value_f)\n",
        "print(f'Valor: {value_i}  Tipo de valor: {type(value_i)}')"
      ],
      "metadata": {
        "id": "9l7VObJWjX0O"
      },
      "execution_count": null,
      "outputs": []
    },
    {
      "cell_type": "markdown",
      "metadata": {
        "id": "KYrROlPUV7EL"
      },
      "source": [
        "<a name='6'></a>\n",
        "### **Listas**\n",
        "\n",
        "Además de `cadenas de texto`, `enteros` y `flotantes`, otro tipo de variable importante son las **listas**.\n",
        "\n",
        "Las listas son tipos de datos importantes que permiten almacenar múltiples elementos en una sola variable y se crean con `[]` o `list()`.\n",
        "\n",
        "\n",
        "Adicionalmente, son:\n",
        "* Ordenados (cuentan con indices)\n",
        "* Mutables (se pueden modificar después de su creación)"
      ]
    },
    {
      "cell_type": "markdown",
      "source": [
        "<center><img src=\"https://realpython.com/cdn-cgi/image/width=960,format=auto/https://files.realpython.com/media/Pythons-list-Built-in-Data-Type-A-Deep-Dive-With-Examples_Watermarked.1f6291ed72f5.jpg\"></center>\n",
        "\n"
      ],
      "metadata": {
        "id": "GBDgiwDvxG2P"
      }
    },
    {
      "cell_type": "code",
      "source": [
        "lista = [2, 4, 6, 8]\n",
        "lista"
      ],
      "metadata": {
        "id": "FsWAVUlf3GsF"
      },
      "execution_count": null,
      "outputs": []
    },
    {
      "cell_type": "markdown",
      "source": [
        "Ahora `x` sería una lista con los valores 2, 4, 6, 8. Las listas pueden contener una combinación de `cadenas de texto`, `enteros` y `flotantes`. Las listas también pueden ser almacenadas dentro de otras listas."
      ],
      "metadata": {
        "id": "eC_PYOn73J3c"
      }
    },
    {
      "cell_type": "code",
      "execution_count": null,
      "metadata": {
        "id": "OtlXMCeMV7EL"
      },
      "outputs": [],
      "source": [
        "lista2 = [\"Hola\", 2, 0.6]\n",
        "lista2"
      ]
    },
    {
      "cell_type": "code",
      "execution_count": null,
      "metadata": {
        "id": "qVXPsp7WV7EL"
      },
      "outputs": [],
      "source": [
        "lista3 = [5, \"Mundo\", lista2]\n",
        "lista3"
      ]
    },
    {
      "cell_type": "code",
      "execution_count": null,
      "metadata": {
        "id": "TxFUfNSwV7EM"
      },
      "outputs": [],
      "source": [
        "len(lista3) #Está función nos indica cuánts elementos estan contenidos en una lista."
      ]
    },
    {
      "cell_type": "code",
      "source": [
        "#Indices\n"
      ],
      "metadata": {
        "id": "CfygiIRs6WkS"
      },
      "execution_count": null,
      "outputs": []
    },
    {
      "cell_type": "markdown",
      "source": [
        "\n",
        "\n",
        "> **Nota**: los elementos individuales de la lista2 no se cuentan de manera individual\n",
        "\n"
      ],
      "metadata": {
        "id": "H-LqWcGn3jN1"
      }
    },
    {
      "cell_type": "markdown",
      "metadata": {
        "id": "BPNIQmR7V7EN"
      },
      "source": [
        "#### 3. Indexación\n",
        "\n",
        "En Python, un índice describe la posición de un valor dentro de una variable, por ejemplo, una lista.\n",
        "\n",
        "Si deseas saber cuál es el valor del segundo elemento en una lista, puedes usar el índice para obtener exactamente ese valor.  \n",
        "Para utilizar un índice, necesitarás `[]` nuevamente. Pero esta vez no en la definición de una variable, sino en combinación con la variable.  \n",
        "Entonces, `x[0]` devolvería el primer elemento de la variable `x`.\n",
        "\n",
        "**Importante:**\n",
        "\n",
        "Python utiliza **indexación basada en 0**, lo que significa que el índice en Python comienza en `0`. El primer valor en la lista se asigna al índice `0`.\n",
        "\n",
        "---\n",
        "\n",
        "\n",
        "\n",
        "> Casi todos los lenguajes de programación son **basados en 0**. Se ha convertido en una convención y está relacionado con la forma en que los **arreglos** se almacenan en la memoria.\n",
        "\n",
        "\n",
        "\n",
        "---\n"
      ]
    },
    {
      "cell_type": "code",
      "execution_count": null,
      "metadata": {
        "id": "cyGzGhQVV7EN"
      },
      "outputs": [],
      "source": [
        "razas_de_perro = [\"Chihuahua\", \"Dingo\", \"Dálmata\", \"Pastor Alemán\", \"Poodle\", \"Rottweiler\"]\n",
        "razas_de_perro"
      ]
    },
    {
      "cell_type": "markdown",
      "metadata": {
        "id": "B3kgPuBBV7EN"
      },
      "source": [
        "Puedes seleccionar múltiples valores de una lista mediante un proceso llamado **slicing**. Para ello, se utiliza el símbolo de dos puntos `:`.\n"
      ]
    },
    {
      "cell_type": "markdown",
      "source": [
        "* `x[:5]` selecciona los primeros cinco valores de la lista `x`. Ten en cuenta que el índice `5` hace referencia al sexto elemento de la lista, el cual **no se incluye** en el resultado. En Python, el índice que define el límite superior nunca se incluye.\n",
        "\n",
        "* `x[2:5]` selecciona los elementos en la tercera, cuarta y quinta posición.\n",
        "\n",
        "* `x[5:]` selecciona todos los elementos desde la sexta posición hasta el final de la lista.\n",
        "\n",
        "* `x[-1]` selecciona el último elemento de la lista.\n",
        "\n",
        "* `x[-2]` selecciona el penúltimo elemento de la lista."
      ],
      "metadata": {
        "id": "LBGJkU5Fg5ms"
      }
    },
    {
      "cell_type": "code",
      "execution_count": null,
      "metadata": {
        "id": "rfmDrv7GV7Ec"
      },
      "outputs": [],
      "source": [
        "x = [1, 2, 3, 4, 5, 6, 7, 8, 9]"
      ]
    },
    {
      "cell_type": "code",
      "execution_count": null,
      "metadata": {
        "id": "MXqYa9iPV7Ec"
      },
      "outputs": [],
      "source": [
        "x[0:5]"
      ]
    },
    {
      "cell_type": "code",
      "execution_count": null,
      "metadata": {
        "id": "f3q7dFrHV7Ec"
      },
      "outputs": [],
      "source": [
        "x[2:5]"
      ]
    },
    {
      "cell_type": "code",
      "execution_count": null,
      "metadata": {
        "id": "KC6ofJ2pV7Ec"
      },
      "outputs": [],
      "source": [
        "x[5:]"
      ]
    },
    {
      "cell_type": "code",
      "execution_count": null,
      "metadata": {
        "id": "NHNuFUJoV7Ed"
      },
      "outputs": [],
      "source": [
        "x[-1]"
      ]
    },
    {
      "cell_type": "markdown",
      "metadata": {
        "id": "Vuq6-OdtV7Ed"
      },
      "source": [
        "Puedes adicionar elementos a una lista existente con\n",
        "\n",
        "`x.append(10)`\n",
        "\n",
        "De esta manera el número `10`es adicionado al final de la lista `x`."
      ]
    },
    {
      "cell_type": "code",
      "execution_count": null,
      "metadata": {
        "id": "5mKwLjGzV7Ed"
      },
      "outputs": [],
      "source": [
        "x.append(10)\n",
        "x"
      ]
    },
    {
      "cell_type": "markdown",
      "source": [
        "<a name='7'></a>\n",
        "### **Tuplas**\n"
      ],
      "metadata": {
        "id": "o9jLII1T8ycE"
      }
    },
    {
      "cell_type": "markdown",
      "metadata": {
        "id": "MxM9HCeoV7EM"
      },
      "source": [
        "Los datos también se pueden guardar en tuplas y conjuntos. Una **tupla** se usa principalmente para colecciones pequeñas de datos que no cambian (si queremos agregar algo a una colección de datos, utilizaremos una lista en su lugar), pero las tuplas pueden ser más eficientes. Además, si devolvemos más de un elemento desde una función, esos elementos estarán en una tupla. Se puede crear una tupla utilizando `tuple()` o simplemente con `()`. Ten en cuenta que si deseas tener solo un elemento en una tupla, debes agregar una coma después del elemento, por ejemplo, `(1,)`.\n",
        "\n",
        "Un **conjunto** (*set*) de elementos solo contiene elementos únicos, por lo que un conjunto se puede utilizar para filtrar solo los elementos únicos de una colección. También es posible realizar operaciones matemáticas de conjuntos, como la unión o intersección. Los conjuntos se crean con `set()` o `{}` (no debe confundirse con un diccionario). A diferencia de las listas o tuplas, los elementos de un conjunto no se pueden acceder mediante un índice."
      ]
    },
    {
      "cell_type": "markdown",
      "source": [
        "<center><img src=\"https://realpython.com/cdn-cgi/image/width=960,format=auto/https://files.realpython.com/media/Pythons-tuple-Built-in-Data-Type-A-Deep-Dive-with-Examples_Watermarked.e85efb14c955.jpg\"></center>\n",
        "\n",
        "\n",
        "\n",
        "\n",
        "\n",
        "\n"
      ],
      "metadata": {
        "id": "DKEcT0bs42dP"
      }
    },
    {
      "cell_type": "code",
      "execution_count": null,
      "metadata": {
        "id": "nOXdPMC1V7EM"
      },
      "outputs": [],
      "source": [
        "# create a tuple from a list\n",
        "tup1 = tuple(lista + [2, 3, 4])\n",
        "print(tup1, type(tup1))\n",
        "# remove duplicates\n",
        "set1 = set(tup1) # or set1 = {1, 2, 3, 2}\n",
        "print(set1, type(set1))\n",
        "# the set can be transformed back to a list\n",
        "lista4 = list(set1)\n",
        "print(lista4, type(lista4))"
      ]
    },
    {
      "cell_type": "markdown",
      "source": [
        "<center><img src=\"https://realpython.com/cdn-cgi/image/width=960,format=auto/https://files.realpython.com/media/Lists-and-Tuples-in-Python_Watermarked.a52798070b3e.jpg\"></center>\n",
        "\n",
        "\n"
      ],
      "metadata": {
        "id": "_6XdejhV3wLi"
      }
    },
    {
      "cell_type": "markdown",
      "source": [
        "<center><img src=\"https://files.realpython.com/media/Sets-in-Python_Watermarked.cd8d2e9563c3.jpg\"></center>\n",
        "\n",
        "\n"
      ],
      "metadata": {
        "id": "aVQFuDvY5GHi"
      }
    },
    {
      "cell_type": "markdown",
      "source": [
        "<a name='7'></a>\n",
        "### **Diccionarios**\n",
        "\n",
        "Los **diccionarios** en Python son estructuras de datos que almacenan pares de **clave** y **valor**. Son útiles para organizar y acceder a datos de forma eficiente, ya que permiten buscar valores a través de sus claves, en lugar de por su posición como en las listas o tuplas. Se definen utilizando llaves `{}` y cada par clave-valor se separa con dos puntos `:`.\n",
        "\n"
      ],
      "metadata": {
        "id": "uIAVKPHco6Qz"
      }
    },
    {
      "cell_type": "markdown",
      "source": [
        "<center><img src=\"https://files.realpython.com/media/Dictionaries-in-Python_Watermarked.3656a2293c00.jpg\"></center>\n",
        "\n",
        "\n",
        "\n"
      ],
      "metadata": {
        "id": "sTw27kbY5bbK"
      }
    },
    {
      "cell_type": "code",
      "source": [
        "# Diccionario que almacena la edad de algunas personas\n",
        "edades = {\n",
        "    'Ana': 25, #Clave: valor\n",
        "    'Juan': 30,\n",
        "    'Luis': 28,\n",
        "    'Maria': 22\n",
        "}\n",
        "\n",
        "# Acceder al valor asociado a la clave 'Juan'\n",
        "print(edades['Juan'])\n",
        "\n",
        "# Agregar un nuevo par clave-valor\n",
        "edades['Carlos'] = 35\n",
        "\n",
        "# Recorrer el diccionario\n",
        "for nombre, edad in edades.items():\n",
        "    print(f\"{nombre} tiene {edad} años.\")"
      ],
      "metadata": {
        "id": "HrYnjZGrpFYR"
      },
      "execution_count": null,
      "outputs": []
    },
    {
      "cell_type": "markdown",
      "metadata": {
        "id": "kQu2deAbV7Ee"
      },
      "source": [
        "<a name='8'></a>\n",
        "\n",
        "## **Bucle For**\n",
        "\n",
        "\n",
        "---\n",
        "\n",
        "\n",
        "La mayoría de las tareas que has realizado hasta ahora podrían hacerse fácilmente con una calculadora. Sin embargo, el **bucle for** es una de las primeras características de *Python* que ofrece posibilidades más eficientes y avanzadas.\n",
        "\n",
        "Un **bucle for** permite ejecutar un conjunto de instrucciones de manera repetida, evitando la necesidad de escribir el mismo comando una y otra vez.\n",
        "\n",
        "\n",
        "<center><img src=\"https://realpython.com/cdn-cgi/image/width=960,format=auto/https://files.realpython.com/media/UPDATE-Python-for-Loops-Definite-Iteration_Watermarked.32bfd8825dfe.jpg\"></center>\n",
        "\n"
      ]
    },
    {
      "cell_type": "code",
      "execution_count": null,
      "metadata": {
        "id": "acR3YBSWV7Ee"
      },
      "outputs": [],
      "source": [
        "for i in range(5):\n",
        "    print(\"...Contando...\") #En vez de escribir la función print() cinco veces, el bucle lo ejecuta de forma automática"
      ]
    },
    {
      "cell_type": "code",
      "execution_count": null,
      "metadata": {
        "id": "iaKKHhO7V7Ee"
      },
      "outputs": [],
      "source": [
        "for a in range(5):\n",
        "    print(a)"
      ]
    },
    {
      "cell_type": "code",
      "execution_count": null,
      "metadata": {
        "scrolled": true,
        "id": "2g6OlT4XV7Ef"
      },
      "outputs": [],
      "source": [
        "x = [1, 2, 3, 4, 5, 6, 7, 8, 9]\n",
        "for element in x:\n",
        "    print(element ** 2)"
      ]
    },
    {
      "cell_type": "code",
      "execution_count": null,
      "metadata": {
        "id": "zd--tvCEV7Eg"
      },
      "outputs": [],
      "source": [
        "print(\"\\n Alternativa: \\n\")\n",
        "print(x)\n",
        "for b in range(len(x)):\n",
        "    print(x[b]**2)"
      ]
    },
    {
      "cell_type": "markdown",
      "metadata": {
        "id": "fKkkMjcaV7Eg"
      },
      "source": [
        "El término `for` introduce el bucle. `element` es el nombre de una nueva variable que existe solo dentro de este `for-loop` (puedes usar cualquier otro nombre si prefieres). La palabra clave `in` indica que la variable siguiente es la que se recorrerá: en este caso, `x`. Python entiende que debe ejecutar el comando dentro del bucle para cada elemento en `x`. Siempre debe haber un `:` al final de la primera línea del bucle for.\n",
        "\n",
        "También es importante notar que el comando dentro del bucle for está indentado, lo cual indica a Python qué instrucciones pertenecen al bucle. Cualquier acción que deba ejecutarse después del bucle, y no dentro de él, se escribe sin sangría. Una *indentación* corresponde a cuatro espacios o presionar la tecla de tabulación una vez.\n",
        "\n",
        "Con frecuencia, los bucles for simples se pueden escribir en una sola línea utilizando la llamada *comprensión de listas* (*list comprehension*)."
      ]
    },
    {
      "cell_type": "code",
      "execution_count": null,
      "metadata": {
        "id": "9OfcSJFuV7Eg"
      },
      "outputs": [],
      "source": [
        "#Ciclo for simple\n",
        "[element**2 for element in x] #Comprensión de listas"
      ]
    },
    {
      "cell_type": "code",
      "source": [],
      "metadata": {
        "id": "C_G0PZCgp2Ti"
      },
      "execution_count": null,
      "outputs": []
    },
    {
      "cell_type": "markdown",
      "source": [
        "<a name='8'></a>\n",
        "\n",
        "## **Funciones**\n",
        "En Python, las **funciones** son el núcleo de la programación. Al igual que en matemáticas, las funciones tienen una entrada y producen una salida, un valor transformado. Por ejemplo, $f(x)= x^2$ $\\to$ $f(3) =9$.\n",
        "\n",
        "Por ejemplo, la función `len()` toma como entrada una lista y devuelve como salida el número de elementos en esa lista.\n",
        "\n",
        "Permiten crear bloques de código reutilizables. Una función se define con la palabra clave `def`, seguida del nombre de la función, paréntesis que pueden contener parámetros, y dos puntos `:`. El código dentro de la función debe estar indentado.\n"
      ],
      "metadata": {
        "id": "wk7f2E-op2p9"
      }
    },
    {
      "cell_type": "code",
      "source": [
        "def function_add (arg1,arg2):\n",
        "    # The scope of the variable result is within the function_add and is called local.\n",
        "    result = arg1 + arg2\n",
        "    result2= arg1*arg2\n",
        "    return result, result2\n",
        "\n",
        "function_add(4,2)"
      ],
      "metadata": {
        "id": "XA2hP8CFrOkK"
      },
      "execution_count": null,
      "outputs": []
    },
    {
      "cell_type": "markdown",
      "source": [
        "<center><img src=\"https://realpython.com/cdn-cgi/image/width=960,format=auto/https://files.realpython.com/media/How-to-Create-Python-Functions-with-Optional-Arguments_Watermarked.f2c8b582aff0.jpg\"></center>"
      ],
      "metadata": {
        "id": "wvuNWIoWrRHZ"
      }
    },
    {
      "cell_type": "code",
      "source": [
        "# Definición de una función para saludar\n",
        "def saludar(nombre):\n",
        "    \"\"\"Esta función recibe un nombre y devuelve un saludo.\"\"\"\n",
        "    return f\"Hola, {nombre}!\"\n",
        "\n",
        "# Llamada a la función\n",
        "mensaje = saludar(input('¿Cuál es tu nombre?: '))\n",
        "print(mensaje)  # Salida: Hola, Ana!"
      ],
      "metadata": {
        "id": "JPZLl3FqqXaQ"
      },
      "execution_count": null,
      "outputs": []
    },
    {
      "cell_type": "markdown",
      "source": [
        "En este caso:  \n",
        "1. `def` indica el inicio de la función.  \n",
        "2. `nombre` es un parámetro que la función recibe.  \n",
        "3. `return` devuelve el resultado.  \n",
        "\n",
        "Las funciones ayudan a organizar el código, evitar repeticiones y facilitar el mantenimiento.\n",
        "\n",
        "\n"
      ],
      "metadata": {
        "id": "nuVHohs4qcJ8"
      }
    },
    {
      "cell_type": "code",
      "execution_count": null,
      "metadata": {
        "id": "bsfQfoUQV7Ej"
      },
      "outputs": [],
      "source": [
        "def cuadrado(x):\n",
        "    return x**2\n",
        "\n",
        "cuadrado(4)"
      ]
    },
    {
      "cell_type": "markdown",
      "metadata": {
        "id": "6umOiqKxV7Ej"
      },
      "source": [
        "After the `def` you can give the function a name, then two brackets `()` follow, in which you can define the names of the input variables. This is followed by a colon. After the `:` the actual function is defined (what the function should do). It is important that everything that should happen in the function is indented with 4 spaces (1 tab). Jupyter does this automatically for you.\n",
        "\n",
        "The last thing is the `return`- statement, what follows will be output by the function.\n",
        "\n",
        "Functions can have multiple inputs and outputs:"
      ]
    },
    {
      "cell_type": "code",
      "execution_count": null,
      "metadata": {
        "id": "M5dgSfy9V7Ej"
      },
      "outputs": [],
      "source": [
        "def potencia(x,b):\n",
        "    x_power_b =x**b\n",
        "    b_power_x =b**x\n",
        "    return x_power_b, b_power_x\n",
        "\n",
        "potencia(x=4,b=5)"
      ]
    },
    {
      "cell_type": "markdown",
      "metadata": {
        "id": "YQ_2JrU7V7Ej"
      },
      "source": [
        "Puedes asignar la salida de una función directamnte a una variable."
      ]
    },
    {
      "cell_type": "code",
      "execution_count": null,
      "metadata": {
        "id": "B3HpO8dzV7Ek"
      },
      "outputs": [],
      "source": [
        "#Python reconoce que valor corresponde a x y cual a b basado en la posición\n",
        "output1, output2 = power(4,5)\n",
        "print(output1, output2)"
      ]
    },
    {
      "cell_type": "code",
      "execution_count": null,
      "metadata": {
        "id": "AGaYPtdDV7Ek"
      },
      "outputs": [],
      "source": [
        "print(x_power_b)"
      ]
    },
    {
      "cell_type": "markdown",
      "metadata": {
        "id": "Z5Zjfl3WV7Ek"
      },
      "source": [
        "En la última celda intentaste imprimir `x_power_b` en la consola (`print(x_power_b)`). Pero eso no funciona, porque las variables definidas dentro de una función \"viven\" solo dentro de la función y no existen en el *alcance global*. Cualquier variable que quieras usar después de la función debe ser almacenada en una nueva variable con la declaración `return`.\n",
        "\n",
        "También puedes usar funciones dentro de otras funciones, lo que te permite escribir funciones más complejas a partir de funciones más simples:"
      ]
    },
    {
      "cell_type": "code",
      "execution_count": null,
      "metadata": {
        "id": "F8bDMPZZV7El"
      },
      "outputs": [],
      "source": [
        "def funcion_1(x):\n",
        "    return x*3\n",
        "\n",
        "def funcion_2(x):\n",
        "    y = funcion_1(x)\n",
        "    z = y +5\n",
        "    return z\n",
        "\n",
        "funcion_2(0.5)"
      ]
    },
    {
      "cell_type": "markdown",
      "metadata": {
        "id": "fQIy6HGMV7El"
      },
      "source": [
        "El último punto a mencionar es que hay variables de entrada opcionales. Esto hace posible estructurar de mejor manera una función."
      ]
    },
    {
      "cell_type": "code",
      "execution_count": null,
      "metadata": {
        "id": "1WNMaf1iV7El"
      },
      "outputs": [],
      "source": [
        "def raiz(x, b=2): #2 se convierte en un valor por default\n",
        "    return x**(1/b)\n",
        "\n",
        "raiz(x=4)"
      ]
    },
    {
      "cell_type": "code",
      "execution_count": null,
      "metadata": {
        "id": "fwdw7zxbV7En"
      },
      "outputs": [],
      "source": [
        "raiz(x=4,b=4)"
      ]
    },
    {
      "cell_type": "markdown",
      "metadata": {
        "id": "nS0hqmLcV7En"
      },
      "source": [
        "### Local vs Global\n",
        "\n",
        "Es importante saber que, como ya se mencionó, existen variables globales y locales. Las variables locales existen solo dentro de la función, mientras que las variables globales existen en la memoria general del script.\n",
        "\n",
        "Ejemplo:\n",
        "\n",
        "La función `local_global` toma como entrada `x` e imprime `a`. Previamente hemos definido `a` de manera global como `1`. Por lo tanto, el resultado de la función también es `1`. Esto sucede porque no definimos `a` localmente. Como Python no puede encontrar una variable local `a`, recurre a la variable global `a`."
      ]
    },
    {
      "cell_type": "code",
      "execution_count": null,
      "metadata": {
        "id": "Wau6plCuV7En"
      },
      "outputs": [],
      "source": [
        "a = 1 #Variable global\n",
        "\n",
        "def local_global(x):\n",
        "    print(a)\n",
        "local_global(x=7)"
      ]
    },
    {
      "cell_type": "markdown",
      "metadata": {
        "id": "up5V26yJV7Eo"
      },
      "source": [
        "Ahora re-escribimos la función de forma que la variable `a` reciba el valor de `x`."
      ]
    },
    {
      "cell_type": "code",
      "execution_count": null,
      "metadata": {
        "id": "uSIldvGBV7Eo"
      },
      "outputs": [],
      "source": [
        "def local_global(x):\n",
        "    a = x #Se destruye después de usarse\n",
        "    print(a)\n",
        "\n",
        "local_global(x=7)"
      ]
    },
    {
      "cell_type": "code",
      "execution_count": null,
      "metadata": {
        "id": "TKWJuMd-V7Ep"
      },
      "outputs": [],
      "source": [
        "a #La variable global no se ve afectada"
      ]
    },
    {
      "cell_type": "markdown",
      "metadata": {
        "id": "feypKXcVV7Ep"
      },
      "source": [
        "Como puedes ver, el cambio local dentro de la función no tuvo efecto sobre la variable global. Es decir, la variable local es *eliminada* después de salir de la función, mientras que la variable global sigue existiendo. Esto ocurre a pesar de que ambas variables tengan el mismo nombre.\n",
        "\n",
        "\n",
        "\n",
        "> *En general, se recomienda evitar que las funciones accedan a variables globales. Esto puede causar confusión y errores difíciles de depurar.*\n",
        "\n"
      ]
    },
    {
      "cell_type": "markdown",
      "metadata": {
        "id": "UdCaoRaEQq1U"
      },
      "source": [
        "# Librerías/Paqueterías\n",
        "---\n",
        "\n"
      ]
    },
    {
      "cell_type": "markdown",
      "source": [],
      "metadata": {
        "id": "UiPxob4st330"
      }
    },
    {
      "cell_type": "markdown",
      "metadata": {
        "id": "PIp2idj6Pl96"
      },
      "source": [
        "Para trabajar con datos en Python, primero necesitamos importar **módulos**, que son programas desarrollados por otras personas o comunidades. Estos módulos facilitan la gestión, análisis y visualización de la información.  \n",
        "\n",
        "En esta sección utilizaremos las siguientes librerías:  \n",
        "\n",
        "- **Pandas:** Permite crear y manipular tablas de datos llamadas *dataframes*, facilitando tareas como limpieza, análisis y transformación de datos.  \n",
        "👉 [Documentación de Pandas](https://pandas.pydata.org/docs/)  \n",
        "\n",
        "- **Seaborn:** Facilita la creación de gráficos estadísticos atractivos y sencillos. Para su funcionamiento, también es necesario importar la librería `matplotlib`.  \n",
        "👉 [Documentación de Seaborn](https://seaborn.pydata.org/)  \n",
        "\n",
        "---\n",
        "\n",
        "Con el comando `import` podemos cargar los módulos necesarios. En un entorno como este *notebook* en línea, las librerías ya están instaladas en la computadora remota.  \n",
        "\n",
        "Tanto **Pandas** como **Seaborn** trabajan con estructuras de datos denominadas *dataframes*. Estas son tablas organizadas en filas y columnas etiquetadas, similares a una hoja de cálculo.   \n",
        "\n",
        "Con estas herramientas, podremos procesar y visualizar nuestros datos de manera eficiente."
      ]
    },
    {
      "cell_type": "code",
      "source": [
        "import pandas as pd\n",
        "import seaborn as sns\n",
        "import matplotlib.pyplot as plt\n",
        "#El comando \"as\" indica el nombre que le queremos dar al módulo para después llamarlo de esa manerz."
      ],
      "metadata": {
        "id": "BetQ7ddprwEj"
      },
      "execution_count": null,
      "outputs": []
    },
    {
      "cell_type": "code",
      "source": [
        "import rdkit"
      ],
      "metadata": {
        "id": "OGnLwYhrsCkA"
      },
      "execution_count": null,
      "outputs": []
    },
    {
      "cell_type": "code",
      "source": [
        "!pip install rdkit"
      ],
      "metadata": {
        "id": "GxhvKvfhsEYD"
      },
      "execution_count": null,
      "outputs": []
    },
    {
      "cell_type": "markdown",
      "source": [
        "## Pandas\n"
      ],
      "metadata": {
        "id": "pr7QggZOt7fA"
      }
    },
    {
      "cell_type": "markdown",
      "source": [
        "Pandas es una de las bibliotecas más populares de Python para la manipulación y el análisis de datos. Proporciona estructuras de datos flexibles y eficientes, como `DataFrame` y `Series`, para manejar y analizar datos estructurados.\n"
      ],
      "metadata": {
        "id": "4pn6lR1SkXZJ"
      }
    },
    {
      "cell_type": "markdown",
      "source": [
        "\n",
        "\n",
        "\n",
        "<center><img src=\"https://realpython.com/cdn-cgi/image/width=960,format=auto/https://files.realpython.com/media/A-Guide-to-Pandas-Dataframes_Watermarked.7330c8fd51bb.jpg\"></center>"
      ],
      "metadata": {
        "id": "s9ETFBLYj3JM"
      }
    },
    {
      "cell_type": "markdown",
      "source": [
        "Para usar `pandas`, primero necesitas instalarlo e importarlo."
      ],
      "metadata": {
        "id": "LtdzAVNWkwgi"
      }
    },
    {
      "cell_type": "code",
      "source": [],
      "metadata": {
        "id": "QQe-9NqikzVi"
      },
      "execution_count": null,
      "outputs": []
    },
    {
      "cell_type": "markdown",
      "source": [
        "### 1. Series\n",
        "\n",
        "Una `Series` es una estructura de datos unidimensional etiquetada, capaz de contener cualquier tipo de dato (entero, cadena, flotante, objetos de Python, etc.).\n"
      ],
      "metadata": {
        "id": "cGIPGmRik2ii"
      }
    },
    {
      "cell_type": "code",
      "source": [
        "# Crear una Series simple\n",
        "datos = [10, 20, 30, 40, 50]\n",
        "s = pd.Series(datos)\n",
        "print(s)"
      ],
      "metadata": {
        "id": "Wxr65ndDlCVm"
      },
      "execution_count": null,
      "outputs": []
    },
    {
      "cell_type": "markdown",
      "source": [
        "También puedes crear una `Series` con un índice personalizado.\n"
      ],
      "metadata": {
        "id": "fYxFGKINlEzF"
      }
    },
    {
      "cell_type": "code",
      "source": [
        "s = pd.Series(datos, index=['a', 'b', 'c', 'd', 'e'])\n",
        "print(s)"
      ],
      "metadata": {
        "id": "jTKuk2i0lIIa"
      },
      "execution_count": null,
      "outputs": []
    },
    {
      "cell_type": "markdown",
      "source": [
        "### 2. DataFrames\n",
        "\n",
        "Un `DataFrame` es una estructura de datos bidimensional etiquetada, con columnas que pueden contener diferentes tipos de datos (similar a una tabla o una hoja de cálculo).\n"
      ],
      "metadata": {
        "id": "O2DgO6w4lKn0"
      }
    },
    {
      "cell_type": "code",
      "source": [
        "# Crear un DataFrame simple\n",
        "datos = {'Nombre': ['Alice', 'Bob', 'Charlie'], 'Edad': [25, 30, 35]}\n",
        "df = pd.DataFrame(datos)\n",
        "print(df)"
      ],
      "metadata": {
        "id": "4xmukWOslNYF"
      },
      "execution_count": null,
      "outputs": []
    },
    {
      "cell_type": "markdown",
      "source": [
        "También puedes especificar los índices de las filas.\n"
      ],
      "metadata": {
        "id": "uAT7XBNKlRF6"
      }
    },
    {
      "cell_type": "code",
      "source": [
        "df = pd.DataFrame(datos, index=['fila1', 'fila2', 'fila3'])\n",
        "print(df)"
      ],
      "metadata": {
        "id": "6f8QbMAXlTno"
      },
      "execution_count": null,
      "outputs": []
    },
    {
      "cell_type": "markdown",
      "source": [
        "### 3. Lectura de archivos\n",
        "\n",
        "Puedes leer datos desde diferentes formatos, como CSV, Excel y bases de datos SQL.\n"
      ],
      "metadata": {
        "id": "Gd-P_D2XlWJ5"
      }
    },
    {
      "cell_type": "code",
      "source": [
        "\n",
        "# Leer un archivo CSV desde GitHub\n",
        "df = pd.read_csv('https://raw.githubusercontent.com/DIFACQUIM/Cursos/main/Datasets/08_Similitud_compounds_g9a.csv')\n",
        "\n",
        "# Mostrar el dataframe\n",
        "df"
      ],
      "metadata": {
        "id": "P9KjsqD2lZ9a"
      },
      "execution_count": null,
      "outputs": []
    },
    {
      "cell_type": "markdown",
      "source": [
        "Si estás trabajando en Google Colab, puedes cargar un archivo utilizando la herramienta de carga de archivos.\n"
      ],
      "metadata": {
        "id": "bnIe3jAYlcBK"
      }
    },
    {
      "cell_type": "code",
      "source": [
        "from google.colab import files\n",
        "uploaded = files.upload()"
      ],
      "metadata": {
        "id": "YHaj6xgWlcxM"
      },
      "execution_count": null,
      "outputs": []
    },
    {
      "cell_type": "markdown",
      "source": [
        "Después de cargar el archivo, puedes cargarlo en un `DataFrame` usando `pd.read_csv()`.\n"
      ],
      "metadata": {
        "id": "wjmC08c7lhim"
      }
    },
    {
      "cell_type": "markdown",
      "source": [
        "### 4. Operaciones Básicas en DataFrame\n"
      ],
      "metadata": {
        "id": "kJBYwyb5lrYm"
      }
    },
    {
      "cell_type": "code",
      "source": [
        "# Acceder a una columna específica\n",
        "print(df['Edad'])"
      ],
      "metadata": {
        "id": "Cj7lrDowl8qP"
      },
      "execution_count": null,
      "outputs": []
    },
    {
      "cell_type": "markdown",
      "source": [
        "Puedes acceder a las filas utilizando `.loc[]` o `.iloc[]`:\n"
      ],
      "metadata": {
        "id": "IDlbx4uZmDXb"
      }
    },
    {
      "cell_type": "code",
      "source": [
        "# Acceder por etiqueta (índice)\n",
        "print(df.loc['fila1'])\n",
        "\n",
        "# Acceder por posición\n",
        "print(df.iloc[0])"
      ],
      "metadata": {
        "id": "rX7zafzal-mD"
      },
      "execution_count": null,
      "outputs": []
    },
    {
      "cell_type": "markdown",
      "source": [
        "Puedes obtener un resumen rápido de los datos usando `describe()`.\n"
      ],
      "metadata": {
        "id": "vfYiBKOJmIDd"
      }
    },
    {
      "cell_type": "code",
      "source": [
        "print(df.describe())"
      ],
      "metadata": {
        "id": "ON-0-4SImKcV"
      },
      "execution_count": null,
      "outputs": []
    },
    {
      "cell_type": "code",
      "source": [
        "# Filtrar filas basadas en una condición\n",
        "df_filtrado = df[df['Edad'] > 30]\n",
        "print(df_filtrado)\n"
      ],
      "metadata": {
        "id": "DlRaMMQgmM2j"
      },
      "execution_count": null,
      "outputs": []
    },
    {
      "cell_type": "markdown",
      "source": [
        "### 5. Modificar Datos\n",
        "\n",
        "Puedes modificar, agregar o eliminar columnas y filas.\n"
      ],
      "metadata": {
        "id": "_h8cgWWbmPBD"
      }
    },
    {
      "cell_type": "code",
      "source": [
        "# Agregar una nueva columna\n",
        "df['Género'] = ['F', 'M', 'M']\n",
        "print(df)"
      ],
      "metadata": {
        "id": "AevNhrNxmRIK"
      },
      "execution_count": null,
      "outputs": []
    },
    {
      "cell_type": "code",
      "source": [
        "# Modificar una columna\n",
        "df['Edad'] = df['Edad'] + 1\n",
        "print(df)\n"
      ],
      "metadata": {
        "id": "x71CemH5mX9x"
      },
      "execution_count": null,
      "outputs": []
    },
    {
      "cell_type": "code",
      "source": [
        "# Eliminar una columna\n",
        "del df['Género']\n",
        "print(df)"
      ],
      "metadata": {
        "id": "R-99Mf4tmZDe"
      },
      "execution_count": null,
      "outputs": []
    },
    {
      "cell_type": "markdown",
      "source": [
        "### 6. Guardar Datos\n",
        "Después de modificar un `DataFrame`, puedes guardarlo nuevamente en un archivo CSV.\n"
      ],
      "metadata": {
        "id": "cgXrhNZAmcPZ"
      }
    },
    {
      "cell_type": "code",
      "source": [
        "df.to_csv('datos_modificados.csv', index=False)"
      ],
      "metadata": {
        "id": "m2X8rcvhmgmV"
      },
      "execution_count": null,
      "outputs": []
    },
    {
      "cell_type": "markdown",
      "metadata": {
        "id": "VG8b-xGk5wfy"
      },
      "source": [
        "En nuestra tabla tenemos 4 columnas. La primera columna se llama \"_index_\" y sólo ennumera los datos. El resto de las columnas son específicas para el conjunto de datos que elegimos."
      ]
    },
    {
      "cell_type": "markdown",
      "metadata": {
        "id": "M_O8d04JwfFw"
      },
      "source": [
        "En programación, cualquier valor, función o *dataframe* se llama **objeto**, y cada objeto tiene una **clase**. Los DataFrames son un tipo de \"clase\", esencialmente porque se puede hacer el mismo tipo de cosas con todos los *dataframes*.\n",
        "\n",
        "Podemos decir que cada vez que llamamos la función `type()` a cualquier objeto de Python estamos preguntando por su clase:\n"
      ]
    },
    {
      "cell_type": "code",
      "metadata": {
        "id": "DBF2kVvDu3ne"
      },
      "source": [
        "type(df)"
      ],
      "execution_count": null,
      "outputs": []
    },
    {
      "cell_type": "markdown",
      "metadata": {
        "id": "lWJ9AJMw28Fd"
      },
      "source": [
        "Las clases incorporan información sobre el comportamiento. La información sobre comportamiento está contenida en **métodos**. En este sentido, las columnas son un método de la clase *dataframe*.\n"
      ]
    },
    {
      "cell_type": "markdown",
      "metadata": {
        "id": "4bEgaAtmqqYu"
      },
      "source": [
        "Mostrar columnas\n",
        "\n",
        "---\n",
        "Algunas funciones integradas de Pandas nos permiten visualizar ciertas características de nuestro *dataframe*, por ejemplo, la función `columns` imprime las etiquetas (labels) de todas las columnas existentes en la tabla.\n",
        "\n",
        "\n",
        "\n"
      ]
    },
    {
      "cell_type": "code",
      "metadata": {
        "id": "KEOcj-OIqsPr"
      },
      "source": [
        "#Algunas funciones integradas de pandas permiten visualizar ciertas características de nuestro DataFrame, por ejemplo, la función columns nos imprime el nombre de todas las columnas de la tabla.\n",
        "df.columns"
      ],
      "execution_count": null,
      "outputs": []
    },
    {
      "cell_type": "markdown",
      "metadata": {
        "id": "49SjG4MxsTU5"
      },
      "source": [
        "También podemos trasponer filas y columnas usando:"
      ]
    },
    {
      "cell_type": "code",
      "metadata": {
        "id": "KzqXDDbzsTfY"
      },
      "source": [
        "df.T"
      ],
      "execution_count": null,
      "outputs": []
    },
    {
      "cell_type": "markdown",
      "metadata": {
        "id": "XxWuC1WxsiBz"
      },
      "source": [
        "Si quisiéramos que ordenar los valores numéricos según un criterio determinado, podemos utilizar la función `sort_values()`. Debemos tener en cuenta que tenemos que especificar qué valores en qué columnas queremos ordenar. Con el parámetro \"`ascending`\" o \"`descending`\" podemos especificar si queremos ordenarlos en orden ascendente o descendente.\n",
        "\n",
        " Esta función, como cualquier otra, tiene parámetros adicionales que podemos cambiar según nuestro gusto o necesidades, por ejemplo, el parámetro `ascending` es \"_True_\" por defecto. Si no lo especificamos, permanecerá como \"_True_\", pero si lo necesitamos, podríamos cambiarlo a \"_False_\".\n",
        "\n",
        " En este caso, ordenaremos los valores de la columna \"x\" en orden ascendente:\n"
      ]
    },
    {
      "cell_type": "code",
      "metadata": {
        "id": "2IdZ109jsiJR"
      },
      "source": [
        "df.sort_values(by='x',ascending = True)"
      ],
      "execution_count": null,
      "outputs": []
    },
    {
      "cell_type": "markdown",
      "metadata": {
        "id": "ZybtR09Gs17w"
      },
      "source": [
        "Seleccionando una sola columna\n",
        "\n",
        "---\n",
        "También podríamos seleccionar una sola columna y generar una tabla que sólo contenga el _índice (index)_ y la columna seleccionada. Este tipo de tabla se llama \"*Serie*\".\n"
      ]
    },
    {
      "cell_type": "code",
      "metadata": {
        "id": "dm0M7o9ts2CH"
      },
      "source": [
        "# Podemos también seleccionar una columna única y generar un tipo de tabla que solo contiene la columna _indice_ o _index_ y la seleccionada, este tipo de tabla se llama _Series_\n",
        "df_X = df['x']"
      ],
      "execution_count": null,
      "outputs": []
    },
    {
      "cell_type": "code",
      "metadata": {
        "id": "P_ndg4TUx4rk"
      },
      "source": [
        "type(df_X)"
      ],
      "execution_count": null,
      "outputs": []
    },
    {
      "cell_type": "code",
      "metadata": {
        "id": "1lCmbgPtlpzk"
      },
      "source": [
        "df_X"
      ],
      "execution_count": null,
      "outputs": []
    },
    {
      "cell_type": "markdown",
      "metadata": {
        "id": "FJ_QGQmStz4C"
      },
      "source": [
        "También podríamos seleccionar un rango de filas según su índice."
      ]
    },
    {
      "cell_type": "code",
      "metadata": {
        "id": "q7j0TV9ot0AI"
      },
      "source": [
        "# Podemos seleccionar rangos de filas según su indice\n",
        "df[0:3]"
      ],
      "execution_count": null,
      "outputs": []
    },
    {
      "cell_type": "markdown",
      "metadata": {
        "id": "2T_LBUzBvAds"
      },
      "source": [
        "Y podríamos combinar las dos acciones previas y seleccionar un rango de filas y también columnas específicas."
      ]
    },
    {
      "cell_type": "code",
      "metadata": {
        "id": "Mq3fjfrfvAn8"
      },
      "source": [
        "df.loc[5:9, ['x', 'y']]"
      ],
      "execution_count": null,
      "outputs": []
    },
    {
      "cell_type": "code",
      "source": [
        "df.iloc[5:9, [1,2]]"
      ],
      "metadata": {
        "id": "8QeiOOV7tdXB"
      },
      "execution_count": null,
      "outputs": []
    },
    {
      "cell_type": "markdown",
      "metadata": {
        "id": "D51hA3Xo14oV"
      },
      "source": [
        "También podemos usar operadores de comparación o booleanos en los valores de las columnas. Este código, por ejemplo, crea una _Serie_ que muestra qué filas de la columna \"x\" tienen un valor superior a 8.\n"
      ]
    },
    {
      "cell_type": "code",
      "metadata": {
        "id": "dp-I5gZu14xS"
      },
      "source": [
        "df['x'] > 8"
      ],
      "execution_count": null,
      "outputs": []
    },
    {
      "cell_type": "markdown",
      "metadata": {
        "id": "blClRnSI2Ko_"
      },
      "source": [
        "La  _Serie_  creada anteriormente puede ser usada como un filtro del conjunto de datos original. Este código crea un _dataframe_ que sólo contiene aquellas filas del *datafram*  original que tengan un valor superior a 8 en la columna \"x\".\n"
      ]
    },
    {
      "cell_type": "code",
      "metadata": {
        "id": "MnzZ83Y_2K2_"
      },
      "source": [
        "df[df['x'] > 8]"
      ],
      "execution_count": null,
      "outputs": []
    },
    {
      "cell_type": "markdown",
      "metadata": {
        "id": "CB0qr6203P7e"
      },
      "source": [
        "Ejemplo de función\n",
        "\n",
        "\n",
        "También podemos filtrar valores no numéricos, por ejemplo, el siguiente código crea un _dataframe_ que sólo contiene las filas de la región definida como \"I\".\n"
      ]
    },
    {
      "cell_type": "code",
      "metadata": {
        "id": "ombnFT7R54mj"
      },
      "source": [
        "#Resulta conveniente filtrar los datos por su tipo, es decir las diferentes regiones mencionadas antes de tipo I , II y II y III.\n",
        "#Este filtrado se puede realizar con el móduldo de pandas, que permite filtrar los datos colocando \"condiciones\" como índices, en este\n",
        "#caso la condición de que la columna \"dataset\" tenga el valor I , II o III.\n",
        "df_I = df[df['dataset']=='I']\n",
        "df_II = df[df['dataset']=='II']\n",
        "df_III = df[df['dataset']=='III']\n",
        "df_IV = df[df['dataset']=='IV']\n",
        "\n",
        "df_I"
      ],
      "execution_count": null,
      "outputs": []
    },
    {
      "cell_type": "markdown",
      "metadata": {
        "id": "ajBbAQQ5V7Eh"
      },
      "source": [
        "## Numpy\n",
        "\n",
        "Python, por sí solo, cuenta con un número limitado de funciones disponibles. Muchas funciones útiles deben cargarse por separado desde fuentes externas, lo cual se logra importando las llamadas *librerías*.  \n",
        "Una de las librerías más importantes y utilizadas es `numpy`. Como su nombre indica, `numpy` se enfoca en cálculos numéricos, especialmente en funciones clave para el álgebra lineal y la estadística.  \n",
        "\n",
        "Lo más relevante de `numpy` es la clase de `arrays`, un nuevo *tipo* de variable que esta librería introduce.  \n",
        "\n",
        "Un `array` permite almacenar múltiples valores en una sola variable. A diferencia de una lista, los valores pueden organizarse en dos (o más) dimensiones, como en una tabla o una matriz:\n",
        "\n",
        "<center><img src=\"https://upload.wikimedia.org/wikipedia/commons/b/bf/Matris.png\" style=\"width: 400px;\"></center>\n",
        "<h8><center>Fuente: Svjo, Wikimedia</center></h8>\n",
        "\n",
        "De hecho, con `numpy` también puedes trabajar con `arrays` en 3D o 4D, aunque para la mayoría de los casos, dos dimensiones son suficientes.  \n",
        "\n",
        "Teóricamente, podríamos trabajar con listas de Python, pero el código subyacente de `numpy` está optimizado específicamente para estas estructuras de `array`. Por ello, `numpy` ofrece ventajas significativas en cuanto a velocidad y eficiencia en comparación con las listas de Python.  \n",
        "\n",
        "**Importante:** A diferencia de las listas, los `arrays` solo pueden contener valores de un mismo tipo. Es decir, solo `strings` o solo `floats`, pero no ambos en un mismo `array`.\n",
        "\n",
        "Puedes importar `numpy` usando `import numpy`. La expresión `as np` permite escribir `np` en lugar de `numpy` en el código, facilitando la escritura:"
      ]
    },
    {
      "cell_type": "code",
      "execution_count": null,
      "metadata": {
        "id": "rEPMUy7yV7Eh"
      },
      "outputs": [],
      "source": [
        "import numpy as np"
      ]
    },
    {
      "cell_type": "code",
      "execution_count": null,
      "metadata": {
        "id": "qUnrLtPxV7Eh"
      },
      "outputs": [],
      "source": [
        "my_array = np.array([[1, 2, 3],\n",
        "                     [4, 5, 6],\n",
        "                     [7, 8, 9]])\n",
        "# Si miras con detalle, my_array es una lista que contiene 3 lista = Matriz\n",
        "print(my_array)"
      ]
    },
    {
      "cell_type": "code",
      "execution_count": null,
      "metadata": {
        "scrolled": true,
        "id": "gm0ePKSkV7Ei"
      },
      "outputs": [],
      "source": [
        "my_array.shape #Para saber que tan grande es la matriz"
      ]
    },
    {
      "cell_type": "markdown",
      "metadata": {
        "id": "rXUlO-jOV7Ei"
      },
      "source": [
        "Así, el `array` consta de tres filas y tres columnas.  \n",
        "También es posible indexar o dividir los `arrays` utilizando la notación `array[fila, columna]`. Las reglas para seleccionar elementos son similares a las de las listas:\n",
        "\n",
        "- `array[1,3]` devuelve el elemento que se encuentra en la segunda fila y la cuarta columna.  \n",
        "- `array[:,0]` devuelve la primera columna completa.  \n",
        "- `array[5,:]` devuelve la sexta fila.  \n",
        "- `array[2:5,0:3]` selecciona todos los elementos comprendidos entre la tercera y la quinta fila, así como entre la primera y la tercera columna."
      ]
    },
    {
      "cell_type": "code",
      "execution_count": null,
      "metadata": {
        "id": "VINwr1_VV7Ei"
      },
      "outputs": [],
      "source": [
        "my_array[0:2,0:2]"
      ]
    },
    {
      "cell_type": "markdown",
      "metadata": {
        "id": "ntsah4b9V7Ei"
      },
      "source": [
        "Puedes usar `numpy` para leer un datasets."
      ]
    },
    {
      "cell_type": "code",
      "execution_count": null,
      "metadata": {
        "id": "vPrraDagV7Ej"
      },
      "outputs": [],
      "source": [
        "dataset = np.genfromtxt('URL', delimiter=',')\n",
        "dataset"
      ]
    },
    {
      "cell_type": "markdown",
      "source": [
        "Aquí tienes una versión mejorada del texto:\n",
        "\n",
        "---\n",
        "\n",
        "# Para saber más  \n",
        "\n",
        "### 📚 **Referencias recomendadas**  \n",
        "- **Joshi, J. (2021).** Capítulo 9: *Python, un lenguaje de programación confiable para quimioinformática y bioinformática*. En N. Sharma, H. Ojha, P. K. Raghav, & R. K. Goyal (Eds.), *Chemoinformatics and Bioinformatics in the Pharmaceutical Sciences* (pp. 279–304). Academic Press. [DOI: 10.1016/B978-0-12-821748-1.00013-0](https://doi.org/10.1016/B978-0-12-821748-1.00013-0)\n",
        "\n",
        "- **Python Cheat Sheet.** InterviewBit. Recuperado el 5 de agosto de 2022, de [Python Cheat Sheet](https://www.interviewbit.com/python-cheat-sheet/)\n",
        "\n",
        "### 🌐 **Recursos y Repositorios**  \n",
        "- 🔬 [**GitHub DIFACQUIM**](https://github.com/DIFACQUIM/Cursos): Repositorio con códigos de uso libre enfocados en el diseño de fármacos asistido por computadora.  \n",
        "- 📘 [**GitBook DIFACQUIM**](https://difacquim.gitbook.io/quimioinformatica): Curso detallado de quimioinformática y diseño de fármacos asistido por computadora.  \n",
        "- 🧬 [**GitHub del grupo del Dr. Oliver Koch**](https://github.com/kochgroup): Repositorio con herramientas y proyectos de quimioinformática y biología computacional.  \n",
        "- 📝 [**Blog sobre Quimioinformática del Dr. Pat Walters**](https://practicalcheminformatics.blogspot.com/): Artículos prácticos y actualizados sobre técnicas y herramientas de quimioinformática.  \n",
        "\n",
        "### 🌐 **Páginas web**  \n",
        "- 📝 [**Real Python**](https://realpython.com/). Tutoriales de Python.\n",
        "- 📝 [**PY4E**](https://www.py4e.com/). Tutoriales de Python.\n",
        "\n",
        "\n",
        "\n",
        "\n",
        "\n",
        "---  \n",
        "\n",
        "Si deseas explorar más recursos o necesitas ayuda con algún tema específico, no dudes en preguntar. 🚀"
      ],
      "metadata": {
        "id": "vEUWxy7QtsWW"
      }
    },
    {
      "cell_type": "markdown",
      "metadata": {
        "id": "uqMbWq89V7Ep"
      },
      "source": [
        "## 📝 **Exercises**\n",
        "\n",
        "### 🔍 **1. Indexing and Slicing**\n",
        "\n",
        "Completa las siguientes tareas usando la matriz `Animals`:\n",
        "\n",
        "1. Extrae la cadena de texto `\"Panda\"` desde la matriz `Animals`.\n",
        "2. Visualiza las primeras dos columnas de la `matriz`.\n",
        "3. Obtén como \"salida\" la tercra fila de la `matriz`.\n",
        "4. Muestra a los cuatro animales ubicados en la esquina superior derech.\n",
        "\n"
      ]
    },
    {
      "cell_type": "code",
      "execution_count": 1,
      "metadata": {
        "id": "oTrZnh8MV7Ep"
      },
      "outputs": [],
      "source": [
        "import numpy as np\n",
        "\n",
        "Animals = np.array([\n",
        "    ['Elefante', 'Tortuga', 'Perico', 'Aguila', 'Eagle'],\n",
        "    ['Orang-utan', 'Panda', 'Bear', 'Carp', 'Wolf'],\n",
        "    ['Hyena', 'Chimpanzee', 'Hippo', 'Dove', 'Rhino'],\n",
        "    ['Lion', 'Sparrow', 'Sheep', 'Boar', 'Gorilla'],\n",
        "    ['Polar bear', 'Horse', 'Penguin', 'Orca', 'Frog']\n",
        "])\n",
        "\n",
        "# Output the elements/slices here with:\n",
        "# print(Animals[...])"
      ]
    },
    {
      "cell_type": "code",
      "source": [
        "Animals"
      ],
      "metadata": {
        "colab": {
          "base_uri": "https://localhost:8080/"
        },
        "id": "MRchORVjTvg8",
        "outputId": "27530f59-8a28-4038-dac9-9e8ac667dbe7"
      },
      "execution_count": 6,
      "outputs": [
        {
          "output_type": "execute_result",
          "data": {
            "text/plain": [
              "array([['Elefante', 'Tortuga', 'Perico', 'Aguila', 'Eagle'],\n",
              "       ['Orang-utan', 'Panda', 'Bear', 'Carp', 'Wolf'],\n",
              "       ['Hyena', 'Chimpanzee', 'Hippo', 'Dove', 'Rhino'],\n",
              "       ['Lion', 'Sparrow', 'Sheep', 'Boar', 'Gorilla'],\n",
              "       ['Polar bear', 'Horse', 'Penguin', 'Orca', 'Frog']], dtype='<U10')"
            ]
          },
          "metadata": {},
          "execution_count": 6
        }
      ]
    },
    {
      "cell_type": "markdown",
      "source": [
        "<details>\n",
        "    <summary><b>Solution:</b></summary>\n",
        "\n",
        "```python\n",
        "print(Animals[1,1])\n",
        "print(Animals[:, 0:2])\n",
        "print(Animals[2]) # If there is no comma, rows always are always before columns\n",
        "print(Animals[:2,3:])  \n",
        "```   \n",
        "</details>"
      ],
      "metadata": {
        "id": "jaHp2b0SUN7_"
      }
    },
    {
      "cell_type": "markdown",
      "metadata": {
        "id": "dtb5DtD-V7Eq"
      },
      "source": [
        "### 🌡️ **2. Celsius 🔄 Fahrenheit**\n",
        "\n",
        "Escribe dos funciones: una para convertir grados Celsius a Fahrenheit y otra para realizar la conversión inversa. Utiliza las siguientes fórmulas:\n",
        "\n",
        " $°F= °C \\cdot 1.8 + 32$. <br>\n",
        "\n",
        "\n",
        "\n",
        "Luego, convierte **25 ºC a ºF** y **250 ºF a ºC** utilizando la función correspondiente."
      ]
    },
    {
      "cell_type": "code",
      "execution_count": null,
      "metadata": {
        "id": "kX5dBlnrV7Eq"
      },
      "outputs": [],
      "source": [
        "def c_to_f(_____):  # write your function here"
      ]
    },
    {
      "cell_type": "markdown",
      "source": [
        "<details>\n",
        "    <summary><b>Solution:</b></summary>\n",
        "\n",
        "```python\n",
        "def c_to_f(celsius):\n",
        "    return celsius*1.8 + 32\n",
        "    \n",
        "print(c_to_f(25))    \n",
        "```   \n",
        "</details>"
      ],
      "metadata": {
        "id": "xZm7AFW1UX0M"
      }
    },
    {
      "cell_type": "markdown",
      "metadata": {
        "id": "3o3ovo7YV7Ew"
      },
      "source": [
        "### 3.  List Comprehension\n",
        "Escribe el siguiente bucle en una sola línea?\n"
      ]
    },
    {
      "cell_type": "code",
      "execution_count": null,
      "metadata": {
        "id": "NaT3ozlvV7Ex"
      },
      "outputs": [],
      "source": [
        "x = [\"A\", \"B\", \"C\", \"D\"]\n",
        "\n",
        "for item in x:\n",
        "    print(item*3)"
      ]
    },
    {
      "cell_type": "code",
      "execution_count": null,
      "metadata": {
        "id": "O9mtNAeIV7Ex"
      },
      "outputs": [],
      "source": [
        "# write your solution here"
      ]
    },
    {
      "cell_type": "markdown",
      "source": [
        "<details>\n",
        "    <summary><b>Solution:</b></summary>\n",
        "\n",
        "```python\n",
        "[3*item for item in x]\n",
        "```   \n",
        "</details>"
      ],
      "metadata": {
        "id": "CB5s2jOlUfps"
      }
    },
    {
      "cell_type": "markdown",
      "metadata": {
        "id": "5lIHR56SV7Ey"
      },
      "source": [
        "Escribe el siguiente bucle como un ciclo \"for\" clásico."
      ]
    },
    {
      "cell_type": "code",
      "execution_count": null,
      "metadata": {
        "id": "oTpssGNBV7Ey"
      },
      "outputs": [],
      "source": [
        "x = [\"A\", \"B\", \"C\", \"D\"]\n",
        "[item + \"_XY\" for item in x]"
      ]
    },
    {
      "cell_type": "code",
      "execution_count": null,
      "metadata": {
        "id": "aofRlJmJV7Ey"
      },
      "outputs": [],
      "source": [
        "# write your solution here"
      ]
    },
    {
      "cell_type": "markdown",
      "source": [
        "<details>\n",
        "    <summary><b>Solution:</b></summary>\n",
        "\n",
        "```python\n",
        "    \n",
        "for item in x:\n",
        "    print(item+\"_XY\")\n",
        "```   \n",
        "</details>"
      ],
      "metadata": {
        "id": "4-3EmuJ4Ukj9"
      }
    },
    {
      "cell_type": "markdown",
      "metadata": {
        "id": "Fl7TA1-6V7Ez"
      },
      "source": [
        "### 🌀 **4. Secuencia de Fibonacci**\n",
        "\n",
        "<center><img src=\"https://ichef.bbci.co.uk/images/ic/1200x675/p01gmtz6.jpg\" style=\"width: 600px;\"></center>\n",
        "<h8><center>Fuente: BBC.com</center></h8>\n",
        "\n",
        "La secuencia de Fibonacci es una serie de números donde cada número es la suma de los dos anteriores:\n",
        "\n",
        "\n",
        " $F(n)= F(n-1) + F(n-2)$ <br>\n",
        "\n",
        "Escribe un programa que genere los **primeros 15 números** de la secuencia de Fibonacci.\n",
        "\n",
        "Se te proporciona la lista `fib`, que contiene los números `0` y `1`. Agrega los siguientes valores a la lista.\n",
        "\n",
        "<details>\n",
        "<summary><b>💡 Pista 1</b></summary>\n",
        "Puedes usar el método <code>.append()</code> para añadir números a la lista.\n",
        "</details>\n",
        "\n",
        "<details>\n",
        "<summary><b>🔑 Pista 2</b></summary>\n",
        "Accede al último elemento de la lista con <code>[-1]</code>.\n",
        "</details>"
      ]
    },
    {
      "cell_type": "code",
      "execution_count": null,
      "metadata": {
        "id": "Lj6-cpN-V7Ez"
      },
      "outputs": [],
      "source": [
        "fib = [0,1]\n",
        "# write your solution here"
      ]
    },
    {
      "cell_type": "markdown",
      "source": [
        "<details>\n",
        "    <summary><b>Solution:</b></summary>\n",
        "\n",
        "```python\n",
        "for i in range(14):\n",
        "    fib.append(fib[-1]+fib[-2])\n",
        "    print(fib)\n",
        "```\n",
        "</details>"
      ],
      "metadata": {
        "id": "6w0eRpNnUrLs"
      }
    },
    {
      "cell_type": "markdown",
      "metadata": {
        "id": "iyeIkL01V7Ez"
      },
      "source": [
        "### 🔢 **5. Suma de las Diagonales de una Matriz**\n",
        "\n",
        "Calcula la suma de las diagonales de las matrices `A` y `B` usando un bucle `for`.\n",
        "\n",
        "Las diagonales de una matriz son los valores que se encuentran en la línea principal que atraviesa la matriz. En el siguiente ejemplo, la diagonal está resaltada en negritas:\n",
        "\n",
        "\n",
        "\\begin{bmatrix}\n",
        "\\mathbf{1} & 2 & 3 \\\\\n",
        "4 & \\mathbf{5} & 6 \\\\\n",
        "7 & 8 & \\mathbf{9}\n",
        "\\end{bmatrix}\n",
        "\n",
        "\n",
        "En este caso, la suma es: \\(1 + 5 + 9 = 15\\).\n",
        "\n",
        "---\n",
        "\n",
        "<details>\n",
        "<summary><b>💡 Pista 1</b></summary>\n",
        "La expresión <code>x = x + 1</code> incrementa el valor de <code>x</code> en 1.\n",
        "</details>\n",
        "\n",
        "<details>\n",
        "<summary><b>🔑 Pista 2</b></summary>\n",
        "La notación <code>x[0,0]</code> accede al elemento en la primera fila y primera columna.\n",
        "</details>"
      ]
    },
    {
      "cell_type": "code",
      "execution_count": null,
      "metadata": {
        "id": "PRL_KNIYV7E0"
      },
      "outputs": [],
      "source": [
        "A = np.array([\n",
        "    [12,45,13,85],\n",
        "    [11,4,43,23],\n",
        "    [78,22,0.5,65],\n",
        "    [154,11,57,1]])\n",
        "\n",
        "print(A)\n",
        "\n",
        "\n",
        "\n",
        "B = np.array([\n",
        "    [0.96359314, 0.42621368, 0.10821601, 0.6852424 ],\n",
        "    [0.23945833, 0.30840861, 0.25658861, 0.63431993],\n",
        "    [0.16603427, 0.40061208, 0.2790935 , 0.94613278],\n",
        "    [0.89885982, 0.00133547, 0.75911288, 0.56449904]])\n",
        "    # The correct answer is 2.1155942899999998\n",
        "\n",
        "print(\"\\n\", B)"
      ]
    },
    {
      "cell_type": "code",
      "execution_count": null,
      "metadata": {
        "id": "TEAEiCcpV7E0"
      },
      "outputs": [],
      "source": [
        "summe_diag = 0\n",
        "# write your solution here"
      ]
    },
    {
      "cell_type": "markdown",
      "source": [
        "<details>\n",
        "    <summary><b>Solution:</b></summary>\n",
        "\n",
        "```python\n",
        "for i in range(4):\n",
        "    sum_diag = sum_diag + A[i,i]\n",
        "print(sum_diag)\n",
        "```\n",
        "</details>"
      ],
      "metadata": {
        "id": "BWH615dkUv4F"
      }
    },
    {
      "cell_type": "markdown",
      "metadata": {
        "id": "oZSS8SBHV7E2"
      },
      "source": [
        "`numpy` cuenta con una gran variedad de funciones. Si alguna vez no sabes qué hace una función, puedes utilizar `help()` para acceder a la documentación. Esta proporciona información detallada sobre cada función, incluyendo los parámetros de entrada requeridos y los resultados esperados."
      ]
    },
    {
      "cell_type": "code",
      "execution_count": null,
      "metadata": {
        "id": "WUvNWGBPV7E2"
      },
      "outputs": [],
      "source": [
        "help(np.sum)"
      ]
    }
  ],
  "metadata": {
    "interpreter": {
      "hash": "b2063f454e5583264956edca724ed174a35400d49c5baf96fcf9ea99fcd5830b"
    },
    "kernelspec": {
      "display_name": "Python 3 (ipykernel)",
      "language": "python",
      "name": "python3"
    },
    "language_info": {
      "codemirror_mode": {
        "name": "ipython",
        "version": 3
      },
      "file_extension": ".py",
      "mimetype": "text/x-python",
      "name": "python",
      "nbconvert_exporter": "python",
      "pygments_lexer": "ipython3",
      "version": "3.10.5"
    },
    "toc-autonumbering": false,
    "toc-showcode": true,
    "toc-showmarkdowntxt": true,
    "colab": {
      "provenance": [],
      "toc_visible": true,
      "include_colab_link": true
    }
  },
  "nbformat": 4,
  "nbformat_minor": 0
}